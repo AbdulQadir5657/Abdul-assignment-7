{
 "cells": [
  {
   "cell_type": "code",
   "execution_count": 8,
   "id": "10e8b2b1",
   "metadata": {},
   "outputs": [
    {
     "name": "stdout",
     "output_type": "stream",
     "text": [
      "30\n",
      "-10\n",
      "200\n",
      "0.5\n"
     ]
    }
   ],
   "source": [
    "# Question 1\n",
    "1. Create two int type variables, apply addition, subtraction, division and multiplications and\n",
    "store the results in variables. Then print the data in the following format by calling the variables:\n",
    "    First variable is __ & second variable is __.\n",
    "    Addition: __ + __ = __\n",
    "    Subtraction: __ - __ = __\n",
    "    Multiplication: __ * __ = __\n",
    "    Division: __ / __ = __\n",
    "        \n",
    "a = 10\n",
    "b = 20\n",
    "print(a+b)\n",
    "print(a-b)\n",
    "print(a*b)\n",
    "print(a/b)\n",
    "    \n",
    "    \n",
    "        "
   ]
  },
  {
   "cell_type": "code",
   "execution_count": null,
   "id": "761dd3bd",
   "metadata": {},
   "outputs": [],
   "source": [
    "# Question 2\n",
    "2.What is the difference between the following operators:\n",
    "(i) ‘/’ & ‘//’\n",
    "(ii) ‘**’ & ‘^’\n",
    "\n",
    "  >  The / operator performs true division in Python. It returns a float value if one or both of the\n",
    "    operands are floats. If both operands are integers, it returns an integer value which is the \n",
    "    floor of the quotient.\n",
    "\n",
    ">  The // operator performs floor division in Python. It returns the largest integer that is less\n",
    "    than or equal to the quotient.\n",
    "\n",
    "> The ** operator is used for exponentiation in Python. It raises the first operand to the power\n",
    "    of the second operand.\n",
    "\n",
    ">   The ^ operator is not used for exponentiation in Python. Instead, it is used for bitwise XOR\n",
    "    operation."
   ]
  },
  {
   "cell_type": "code",
   "execution_count": null,
   "id": "153aac0c",
   "metadata": {},
   "outputs": [],
   "source": [
    "# Question 3\n",
    "3. List the logical operators.\n",
    "\n",
    "    The logical operators in Python are:\n",
    "\n",
    "- `and`: Returns True if both operands are True.\n",
    "- `or`: Returns True if at least one of the operands is True.\n",
    "- `not`: Returns the opposite of the operand's value.\n",
    "\n"
   ]
  },
  {
   "cell_type": "code",
   "execution_count": 10,
   "id": "38e4e3e5",
   "metadata": {},
   "outputs": [
    {
     "name": "stdout",
     "output_type": "stream",
     "text": [
      "2\n",
      "32\n"
     ]
    }
   ],
   "source": [
    "# Question 4\n",
    "4. Explain right shift operator and left shift operator with examples.\n",
    "\n",
    "   The right shift operator (>>) and left shift operator (<<) are used to shift the bits of a\n",
    "    number to the right or left by a specified number of positions.\n",
    "\n",
    "    The right shift operator (>>) shifts the bits of a number to the right by the specified number \n",
    "    of positions. The rightmost bits are discarded and zeros are added on the left. For example:\n",
    "        \n",
    "x = 8\n",
    "y = x >> 2\n",
    "print(y)\n",
    "\n",
    "    In this example, the binary representation of 8 is 0b1000. Shifting it two positions to\n",
    "    the right results in 0b10, which is equal to 2 in decimal.\n",
    "\n",
    "    The left shift operator (<<) shifts the bits of a number to the left by the specified\n",
    "    number of positions. Zeros are added on the right and the leftmost bits are discarded.\n",
    "    For example:\n",
    "    \n",
    "x = 8\n",
    "y = x << 2\n",
    "print(y)\n",
    "\n",
    "    In this example, the binary representation of 8 is 0b1000. Shifting it two positions to\n",
    "    the left results in 0b100000, which is equal to 32 in decimal.\n"
   ]
  },
  {
   "cell_type": "code",
   "execution_count": 11,
   "id": "51aeae4d",
   "metadata": {},
   "outputs": [
    {
     "name": "stdout",
     "output_type": "stream",
     "text": [
      "10 is present in the list\n"
     ]
    }
   ],
   "source": [
    "# Question 5\n",
    "5.Create a list containing int type data of length 15. Then write a code to check if 10 is\n",
    "present in the list or not.\n",
    "\n",
    "my_list = [1, 2, 3, 4, 5, 6, 7, 8, 9, 10, 11, 12, 13, 14, 15]\n",
    "\n",
    "if 10 in my_list:\n",
    "    print(\"10 is present in the list\")\n",
    "else:\n",
    "    print(\"10 is not present in the list\")\n"
   ]
  },
  {
   "cell_type": "code",
   "execution_count": null,
   "id": "efb06bf6",
   "metadata": {},
   "outputs": [],
   "source": []
  }
 ],
 "metadata": {
  "kernelspec": {
   "display_name": "Python 3 (ipykernel)",
   "language": "python",
   "name": "python3"
  },
  "language_info": {
   "codemirror_mode": {
    "name": "ipython",
    "version": 3
   },
   "file_extension": ".py",
   "mimetype": "text/x-python",
   "name": "python",
   "nbconvert_exporter": "python",
   "pygments_lexer": "ipython3",
   "version": "3.10.9"
  }
 },
 "nbformat": 4,
 "nbformat_minor": 5
}
